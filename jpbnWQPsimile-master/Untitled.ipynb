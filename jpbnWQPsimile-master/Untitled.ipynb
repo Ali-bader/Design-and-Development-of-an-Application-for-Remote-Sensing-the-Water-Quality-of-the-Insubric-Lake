{
 "cells": [
  {
   "cell_type": "code",
   "execution_count": null,
   "id": "1163db9e-ea73-4aa7-8ae9-b27bc69d48b7",
   "metadata": {},
   "outputs": [],
   "source": []
  }
 ],
 "metadata": {
  "kernelspec": {
   "display_name": "Python 3",
   "language": "python",
   "name": "python3"
  },
  "language_info": {
   "codemirror_mode": {
    "name": "ipython",
    "version": 3
   },
   "file_extension": ".py",
   "mimetype": "text/x-python",
   "name": "python",
   "nbconvert_exporter": "python",
   "pygments_lexer": "ipython3",
   "version": "3.6.9"
  }
 },
 "nbformat": 4,
 "nbformat_minor": 5
}
